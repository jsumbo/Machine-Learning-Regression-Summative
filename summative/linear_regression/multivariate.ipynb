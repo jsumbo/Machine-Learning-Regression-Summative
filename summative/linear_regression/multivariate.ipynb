{
 "cells": [
  {
   "cell_type": "code",
   "execution_count": null,
   "metadata": {},
   "outputs": [],
   "source": [
    "import pandas as pd\n",
    "from sklearn.model_selection import train_test_split\n",
    "from sklearn.linear_model import LinearRegression\n",
    "from sklearn.tree import DecisionTreeRegressor\n",
    "from sklearn.ensemble import RandomForestRegressor\n",
    "from sklearn.metrics import mean_squared_error\n",
    "import joblib"
   ]
  },
  {
   "cell_type": "code",
   "execution_count": null,
   "metadata": {},
   "outputs": [],
   "source": [
    "# Load and clean dataset\n",
    "dataset_path = \"student_loan_debt_by_school.csv\"\n",
    "df = pd.read_csv(dataset_path)\n",
    "data_cleaned = data.dropna(subset=[\"Recipients\"])\n",
    "data_encoded = pd.get_dummies(data_cleaned, columns=[\"School Type\", \"Loan Type\"], drop_first=True)\n"
   ]
  },
  {
   "cell_type": "code",
   "execution_count": null,
   "metadata": {},
   "outputs": [],
   "source": [
    "# Prepare features and target\n",
    "X = data_encoded[[\"# of Loans Originated\", \"$ of Loans Originated\"] + \n",
    "                 [col for col in data_encoded.columns if \"School Type\" in col or \"Loan Type\" in col]]\n",
    "y = data_encoded[\"Recipients\"]\n",
    "X_train, X_test, y_train, y_test = train_test_split(X, y, test_size=0.2, random_state=42)\n"
   ]
  },
  {
   "cell_type": "code",
   "execution_count": null,
   "metadata": {},
   "outputs": [],
   "source": [
    "# Train models\n",
    "lr_model = LinearRegression().fit(X_train, y_train)\n",
    "dt_model = DecisionTreeRegressor(random_state=42).fit(X_train, y_train)\n",
    "rf_model = RandomForestRegressor(random_state=42, n_estimators=100).fit(X_train, y_train)"
   ]
  },
  {
   "cell_type": "code",
   "execution_count": null,
   "metadata": {},
   "outputs": [],
   "source": [
    "# Evaluate models\n",
    "lr_mse = mean_squared_error(y_test, lr_model.predict(X_test))\n",
    "dt_mse = mean_squared_error(y_test, dt_model.predict(X_test))\n",
    "rf_mse = mean_squared_error(y_test, rf_model.predict(X_test))\n"
   ]
  },
  {
   "cell_type": "code",
   "execution_count": null,
   "metadata": {},
   "outputs": [],
   "source": [
    "# Save the best model\n",
    "best_model = lr_model if lr_mse < dt_mse and lr_mse < rf_mse else (dt_model if dt_mse < rf_mse else rf_model)\n",
    "joblib.dump(best_model, \"best_model.pkl\")"
   ]
  }
 ],
 "metadata": {
  "kernelspec": {
   "display_name": "Python 3",
   "language": "python",
   "name": "python3"
  },
  "language_info": {
   "name": "python",
   "version": "3.12.4"
  }
 },
 "nbformat": 4,
 "nbformat_minor": 2
}
